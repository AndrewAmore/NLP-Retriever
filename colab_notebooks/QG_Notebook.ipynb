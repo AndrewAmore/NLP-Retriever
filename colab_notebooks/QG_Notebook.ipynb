{
 "nbformat": 4,
 "nbformat_minor": 0,
 "metadata": {
  "colab": {
   "provenance": []
  },
  "kernelspec": {
   "name": "python3",
   "display_name": "Python 3"
  },
  "language_info": {
   "name": "python"
  },
  "gpuClass": "standard",
  "accelerator": "GPU"
 },
 "cells": [
  {
   "cell_type": "code",
   "source": [
    "# install required libraries\n",
    "!pip install transformers\n",
    "!pip install sentencepiece\n",
    "# clone the repo\n",
    "!git clone https://github.com/AndrewAmore/NLP-Retriever.git\n",
    "%cd NLP-Retriever/\n",
    "%load helpers.py"
   ],
   "metadata": {
    "id": "P1g6zjQ9U8-N",
    "pycharm": {
     "name": "#%%\n"
    }
   },
   "execution_count": null,
   "outputs": []
  },
  {
   "cell_type": "code",
   "source": [
    "import torch\n",
    "from google.colab import auth\n",
    "\n",
    "# authenticate colab to allow access to BigQuery database \n",
    "auth.authenticate_user()\n",
    "print('Authenticated')\n",
    "device = torch.device('cuda' if torch.cuda.is_available() else 'cpu')\n",
    "project_id = 'calcium-vial-368801'"
   ],
   "metadata": {
    "id": "be4T3frJQSBN",
    "pycharm": {
     "name": "#%%\n"
    }
   },
   "execution_count": null,
   "outputs": []
  },
  {
   "cell_type": "code",
   "source": [
    "from question_generator.questiongenerator import QuestionGenerator\n",
    "# build question generator model\n",
    "qg = QuestionGenerator()"
   ],
   "metadata": {
    "id": "8yv8DsykO6Oz",
    "pycharm": {
     "name": "#%%\n"
    }
   },
   "execution_count": null,
   "outputs": []
  },
  {
   "cell_type": "code",
   "source": [
    "import helpers, sys\n",
    "isColab = 'google.colab' in sys.modules\n",
    "# process batches\n",
    "helpers.process_batches(isColab=isColab, project_id=project_id, qg=qg, num_questions=25,\n",
    "                        target_table=\"testing.test_corpus_1_qg_25_beam\",\n",
    "                        lookup_tbl=\"testing.stg_test_corpus_1_batch_loading\",\n",
    "                        num_batches=50, batch_size=15,\n",
    "                        use_qa_evaluator=True, doDelete=True)"
   ],
   "metadata": {
    "id": "QwttFbjCPlEs",
    "pycharm": {
     "name": "#%%\n"
    }
   },
   "execution_count": null,
   "outputs": []
  }
 ]
}